{
 "cells": [
  {
   "cell_type": "code",
   "execution_count": 10,
   "id": "6d2ac751",
   "metadata": {},
   "outputs": [
    {
     "name": "stdout",
     "output_type": "stream",
     "text": [
      "Requirement already satisfied: ultralytics in s:\\deeplearning-inholland\\sheep-detector\\venv\\lib\\site-packages (8.3.113)\n",
      "Requirement already satisfied: torch>=1.8.0 in s:\\deeplearning-inholland\\sheep-detector\\venv\\lib\\site-packages (from ultralytics) (2.5.1+cu121)\n",
      "Requirement already satisfied: matplotlib>=3.3.0 in s:\\deeplearning-inholland\\sheep-detector\\venv\\lib\\site-packages (from ultralytics) (3.10.1)\n",
      "Requirement already satisfied: scipy>=1.4.1 in s:\\deeplearning-inholland\\sheep-detector\\venv\\lib\\site-packages (from ultralytics) (1.15.2)\n",
      "Requirement already satisfied: psutil in s:\\deeplearning-inholland\\sheep-detector\\venv\\lib\\site-packages (from ultralytics) (7.0.0)\n",
      "Requirement already satisfied: ultralytics-thop>=2.0.0 in s:\\deeplearning-inholland\\sheep-detector\\venv\\lib\\site-packages (from ultralytics) (2.0.14)\n",
      "Requirement already satisfied: pillow>=7.1.2 in s:\\deeplearning-inholland\\sheep-detector\\venv\\lib\\site-packages (from ultralytics) (11.2.1)\n",
      "Requirement already satisfied: py-cpuinfo in s:\\deeplearning-inholland\\sheep-detector\\venv\\lib\\site-packages (from ultralytics) (9.0.0)\n",
      "Requirement already satisfied: seaborn>=0.11.0 in s:\\deeplearning-inholland\\sheep-detector\\venv\\lib\\site-packages (from ultralytics) (0.13.2)\n",
      "Requirement already satisfied: torchvision>=0.9.0 in s:\\deeplearning-inholland\\sheep-detector\\venv\\lib\\site-packages (from ultralytics) (0.20.1+cu121)\n",
      "Requirement already satisfied: tqdm>=4.64.0 in s:\\deeplearning-inholland\\sheep-detector\\venv\\lib\\site-packages (from ultralytics) (4.67.1)\n",
      "Requirement already satisfied: pandas>=1.1.4 in s:\\deeplearning-inholland\\sheep-detector\\venv\\lib\\site-packages (from ultralytics) (2.2.3)\n",
      "Requirement already satisfied: opencv-python>=4.6.0 in s:\\deeplearning-inholland\\sheep-detector\\venv\\lib\\site-packages (from ultralytics) (4.11.0.86)\n",
      "Requirement already satisfied: requests>=2.23.0 in s:\\deeplearning-inholland\\sheep-detector\\venv\\lib\\site-packages (from ultralytics) (2.32.3)\n",
      "Requirement already satisfied: pyyaml>=5.3.1 in s:\\deeplearning-inholland\\sheep-detector\\venv\\lib\\site-packages (from ultralytics) (6.0.2)\n",
      "Requirement already satisfied: numpy<=2.1.1,>=1.23.0 in s:\\deeplearning-inholland\\sheep-detector\\venv\\lib\\site-packages (from ultralytics) (2.1.1)\n",
      "Requirement already satisfied: kiwisolver>=1.3.1 in s:\\deeplearning-inholland\\sheep-detector\\venv\\lib\\site-packages (from matplotlib>=3.3.0->ultralytics) (1.4.8)\n",
      "Requirement already satisfied: python-dateutil>=2.7 in s:\\deeplearning-inholland\\sheep-detector\\venv\\lib\\site-packages (from matplotlib>=3.3.0->ultralytics) (2.9.0.post0)\n",
      "Requirement already satisfied: cycler>=0.10 in s:\\deeplearning-inholland\\sheep-detector\\venv\\lib\\site-packages (from matplotlib>=3.3.0->ultralytics) (0.12.1)\n",
      "Requirement already satisfied: contourpy>=1.0.1 in s:\\deeplearning-inholland\\sheep-detector\\venv\\lib\\site-packages (from matplotlib>=3.3.0->ultralytics) (1.3.2)\n",
      "Requirement already satisfied: pyparsing>=2.3.1 in s:\\deeplearning-inholland\\sheep-detector\\venv\\lib\\site-packages (from matplotlib>=3.3.0->ultralytics) (3.2.3)\n",
      "Requirement already satisfied: packaging>=20.0 in s:\\deeplearning-inholland\\sheep-detector\\venv\\lib\\site-packages (from matplotlib>=3.3.0->ultralytics) (25.0)\n",
      "Requirement already satisfied: fonttools>=4.22.0 in s:\\deeplearning-inholland\\sheep-detector\\venv\\lib\\site-packages (from matplotlib>=3.3.0->ultralytics) (4.57.0)\n",
      "Requirement already satisfied: pytz>=2020.1 in s:\\deeplearning-inholland\\sheep-detector\\venv\\lib\\site-packages (from pandas>=1.1.4->ultralytics) (2025.2)\n",
      "Requirement already satisfied: tzdata>=2022.7 in s:\\deeplearning-inholland\\sheep-detector\\venv\\lib\\site-packages (from pandas>=1.1.4->ultralytics) (2025.2)\n",
      "Requirement already satisfied: certifi>=2017.4.17 in s:\\deeplearning-inholland\\sheep-detector\\venv\\lib\\site-packages (from requests>=2.23.0->ultralytics) (2025.1.31)\n",
      "Requirement already satisfied: urllib3<3,>=1.21.1 in s:\\deeplearning-inholland\\sheep-detector\\venv\\lib\\site-packages (from requests>=2.23.0->ultralytics) (2.4.0)\n",
      "Requirement already satisfied: charset-normalizer<4,>=2 in s:\\deeplearning-inholland\\sheep-detector\\venv\\lib\\site-packages (from requests>=2.23.0->ultralytics) (3.4.1)\n",
      "Requirement already satisfied: idna<4,>=2.5 in s:\\deeplearning-inholland\\sheep-detector\\venv\\lib\\site-packages (from requests>=2.23.0->ultralytics) (3.10)\n",
      "Requirement already satisfied: fsspec in s:\\deeplearning-inholland\\sheep-detector\\venv\\lib\\site-packages (from torch>=1.8.0->ultralytics) (2025.3.2)\n",
      "Requirement already satisfied: typing-extensions>=4.8.0 in s:\\deeplearning-inholland\\sheep-detector\\venv\\lib\\site-packages (from torch>=1.8.0->ultralytics) (4.13.2)\n",
      "Requirement already satisfied: jinja2 in s:\\deeplearning-inholland\\sheep-detector\\venv\\lib\\site-packages (from torch>=1.8.0->ultralytics) (3.1.6)\n",
      "Requirement already satisfied: networkx in s:\\deeplearning-inholland\\sheep-detector\\venv\\lib\\site-packages (from torch>=1.8.0->ultralytics) (3.4.2)\n",
      "Requirement already satisfied: sympy==1.13.1 in s:\\deeplearning-inholland\\sheep-detector\\venv\\lib\\site-packages (from torch>=1.8.0->ultralytics) (1.13.1)\n",
      "Requirement already satisfied: filelock in s:\\deeplearning-inholland\\sheep-detector\\venv\\lib\\site-packages (from torch>=1.8.0->ultralytics) (3.18.0)\n",
      "Requirement already satisfied: mpmath<1.4,>=1.1.0 in s:\\deeplearning-inholland\\sheep-detector\\venv\\lib\\site-packages (from sympy==1.13.1->torch>=1.8.0->ultralytics) (1.3.0)\n",
      "Requirement already satisfied: colorama in s:\\deeplearning-inholland\\sheep-detector\\venv\\lib\\site-packages (from tqdm>=4.64.0->ultralytics) (0.4.6)\n",
      "Requirement already satisfied: six>=1.5 in s:\\deeplearning-inholland\\sheep-detector\\venv\\lib\\site-packages (from python-dateutil>=2.7->matplotlib>=3.3.0->ultralytics) (1.17.0)\n",
      "Requirement already satisfied: MarkupSafe>=2.0 in s:\\deeplearning-inholland\\sheep-detector\\venv\\lib\\site-packages (from jinja2->torch>=1.8.0->ultralytics) (3.0.2)\n",
      "Note: you may need to restart the kernel to use updated packages.\n"
     ]
    },
    {
     "name": "stderr",
     "output_type": "stream",
     "text": [
      "\n",
      "[notice] A new release of pip is available: 23.0.1 -> 25.1.1\n",
      "[notice] To update, run: python.exe -m pip install --upgrade pip\n"
     ]
    }
   ],
   "source": [
    "%pip install ultralytics"
   ]
  },
  {
   "cell_type": "code",
   "execution_count": 12,
   "id": "7b4dda29",
   "metadata": {},
   "outputs": [],
   "source": [
    "from ultralytics import YOLO"
   ]
  },
  {
   "cell_type": "code",
   "execution_count": null,
   "id": "18af8500",
   "metadata": {},
   "outputs": [],
   "source": [
    "ROOT_FOLDER = \".\"\n",
    "DATASET_FOLDER = f\"{ROOT_FOLDER}/dataset\"\n",
    "MODEL_FOLDER = f\"{ROOT_FOLDER}/model\"\n",
    "MODEL_NAME = 'sheep-detector+preprocessing+augmentation+no-patience.pt'"
   ]
  },
  {
   "cell_type": "code",
   "execution_count": null,
   "id": "3df36dd2",
   "metadata": {},
   "outputs": [
    {
     "name": "stdout",
     "output_type": "stream",
     "text": [
      "Ultralytics 8.3.113  Python-3.10.11 torch-2.5.1+cu121 CUDA:0 (NVIDIA GeForce RTX 2070 SUPER, 8192MiB)\n",
      "YOLO11n summary (fused): 100 layers, 2,582,347 parameters, 0 gradients, 6.3 GFLOPs\n",
      "\u001b[34m\u001b[1mval: \u001b[0mFast image access  (ping: 0.00.0 ms, read: 105.679.5 MB/s, size: 13.8 KB)\n"
     ]
    },
    {
     "name": "stderr",
     "output_type": "stream",
     "text": [
      "\u001b[34m\u001b[1mval: \u001b[0mScanning S:\\Deeplearning-inholland\\Sheep-Detector\\dataset\\labels\\test.cache... 37 images, 0 backgrounds, 0 corrupt: 100%|██████████| 37/37 [00:00<?, ?it/s]\n",
      "                 Class     Images  Instances      Box(P          R      mAP50  mAP50-95): 100%|██████████| 3/3 [00:04<00:00,  1.49s/it]\n"
     ]
    },
    {
     "name": "stdout",
     "output_type": "stream",
     "text": [
      "                   all         37        103       0.99      0.979      0.994      0.754\n",
      "Speed: 3.7ms preprocess, 4.6ms inference, 0.0ms loss, 2.3ms postprocess per image\n",
      "Results saved to \u001b[1ms:\\Deeplearning-inholland\\Sheep-Detector\\runs\\detect\\val9\u001b[0m\n"
     ]
    }
   ],
   "source": [
    "model = YOLO(f\"{MODEL_FOLDER}/{MODEL_NAME}\")\n",
    "metrics = model.val(data=\"sheep.yaml\", split=\"test\")"
   ]
  },
  {
   "cell_type": "code",
   "execution_count": 18,
   "id": "5acde7b8",
   "metadata": {},
   "outputs": [
    {
     "name": "stdout",
     "output_type": "stream",
     "text": [
      "Mean Precision: 0.99018\n",
      "Mean Recall: 0.97913\n",
      "mAP@0.5: 0.99403\n",
      "mAP@0.5:0.95: 0.75400\n"
     ]
    }
   ],
   "source": [
    "print(f\"Mean Precision: {metrics.box.mp:.5f}\")\n",
    "print(f\"Mean Recall: {metrics.box.mr:.5f}\")\n",
    "print(f\"mAP@0.5: {metrics.box.map50:.5f}\")\n",
    "print(f\"mAP@0.5:0.95: {metrics.box.map:.5f}\")\n"
   ]
  }
 ],
 "metadata": {
  "kernelspec": {
   "display_name": "venv",
   "language": "python",
   "name": "python3"
  },
  "language_info": {
   "codemirror_mode": {
    "name": "ipython",
    "version": 3
   },
   "file_extension": ".py",
   "mimetype": "text/x-python",
   "name": "python",
   "nbconvert_exporter": "python",
   "pygments_lexer": "ipython3",
   "version": "3.10.11"
  }
 },
 "nbformat": 4,
 "nbformat_minor": 5
}
