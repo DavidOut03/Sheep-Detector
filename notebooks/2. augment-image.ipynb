{
 "cells": [
  {
   "cell_type": "markdown",
   "id": "73b46e6d",
   "metadata": {},
   "source": [
    "# Image generation for Sheep Detection\n",
    "\n",
    "In this notebook we generate new images based on old images by extracting sheep from a image with sheep and randomly rotate and place them on a new image."
   ]
  },
  {
   "cell_type": "code",
   "execution_count": 73,
   "id": "9a719038",
   "metadata": {},
   "outputs": [
    {
     "name": "stdout",
     "output_type": "stream",
     "text": [
      "Requirement already satisfied: opencv-python in s:\\deeplearning-inholland\\sheep-detector\\venv\\lib\\site-packages (4.11.0.86)\n",
      "Requirement already satisfied: pandas in s:\\deeplearning-inholland\\sheep-detector\\venv\\lib\\site-packages (2.2.3)\n",
      "Requirement already satisfied: numpy in s:\\deeplearning-inholland\\sheep-detector\\venv\\lib\\site-packages (2.1.1)\n",
      "Requirement already satisfied: matplotlib in s:\\deeplearning-inholland\\sheep-detector\\venv\\lib\\site-packages (3.10.1)\n",
      "Requirement already satisfied: pytz>=2020.1 in s:\\deeplearning-inholland\\sheep-detector\\venv\\lib\\site-packages (from pandas) (2025.2)\n",
      "Requirement already satisfied: tzdata>=2022.7 in s:\\deeplearning-inholland\\sheep-detector\\venv\\lib\\site-packages (from pandas) (2025.2)\n",
      "Requirement already satisfied: python-dateutil>=2.8.2 in s:\\deeplearning-inholland\\sheep-detector\\venv\\lib\\site-packages (from pandas) (2.9.0.post0)\n",
      "Requirement already satisfied: cycler>=0.10 in s:\\deeplearning-inholland\\sheep-detector\\venv\\lib\\site-packages (from matplotlib) (0.12.1)\n",
      "Requirement already satisfied: kiwisolver>=1.3.1 in s:\\deeplearning-inholland\\sheep-detector\\venv\\lib\\site-packages (from matplotlib) (1.4.8)\n",
      "Requirement already satisfied: pillow>=8 in s:\\deeplearning-inholland\\sheep-detector\\venv\\lib\\site-packages (from matplotlib) (11.2.1)\n",
      "Requirement already satisfied: pyparsing>=2.3.1 in s:\\deeplearning-inholland\\sheep-detector\\venv\\lib\\site-packages (from matplotlib) (3.2.3)\n",
      "Requirement already satisfied: packaging>=20.0 in s:\\deeplearning-inholland\\sheep-detector\\venv\\lib\\site-packages (from matplotlib) (25.0)\n",
      "Requirement already satisfied: fonttools>=4.22.0 in s:\\deeplearning-inholland\\sheep-detector\\venv\\lib\\site-packages (from matplotlib) (4.57.0)\n",
      "Requirement already satisfied: contourpy>=1.0.1 in s:\\deeplearning-inholland\\sheep-detector\\venv\\lib\\site-packages (from matplotlib) (1.3.2)\n",
      "Requirement already satisfied: six>=1.5 in s:\\deeplearning-inholland\\sheep-detector\\venv\\lib\\site-packages (from python-dateutil>=2.8.2->pandas) (1.17.0)\n",
      "Note: you may need to restart the kernel to use updated packages.\n"
     ]
    },
    {
     "name": "stderr",
     "output_type": "stream",
     "text": [
      "\n",
      "[notice] A new release of pip is available: 23.0.1 -> 25.1.1\n",
      "[notice] To update, run: python.exe -m pip install --upgrade pip\n"
     ]
    }
   ],
   "source": [
    "%pip install opencv-python pandas numpy matplotlib"
   ]
  },
  {
   "cell_type": "code",
   "execution_count": 74,
   "id": "006f0962",
   "metadata": {},
   "outputs": [],
   "source": [
    "import os\n",
    "import cv2\n",
    "import numpy as np\n",
    "import pandas as pd\n",
    "import random\n",
    "import matplotlib.pyplot as plt\n",
    "from typing import List, Tuple"
   ]
  },
  {
   "cell_type": "code",
   "execution_count": 75,
   "id": "08fea622",
   "metadata": {},
   "outputs": [],
   "source": [
    "ROOT_FOLDER = \"..\"\n",
    "DATASET_FOLDER = f\"{ROOT_FOLDER}/dataset\"\n",
    "ENHANCED_IMAGE_FOLDER = f\"{DATASET_FOLDER}/images/enhanced\"\n",
    "AUGMENTED_IMAGE_FOLDER = f\"{DATASET_FOLDER}/images/augmented\"\n",
    "\n",
    "ANNOTATIONS_FILE = f\"{DATASET_FOLDER}/annotations.xlsx\""
   ]
  },
  {
   "cell_type": "code",
   "execution_count": 76,
   "id": "edb1d1b0",
   "metadata": {},
   "outputs": [],
   "source": [
    "def load_image(path: str) -> np.ndarray:\n",
    "    \"\"\"Load an image (in color) from a file path.\"\"\"\n",
    "    img = cv2.imread(path, cv2.IMREAD_UNCHANGED)\n",
    "    if img is None:\n",
    "        raise FileNotFoundError(f\"Image not found: {path}\")\n",
    "    return img\n",
    "\n",
    "def load_annotations(file_path: str) -> pd.DataFrame:\n",
    "    \"\"\"Load bounding box annotations from an Excel file into a DataFrame.\"\"\"\n",
    "    df = pd.read_excel(file_path)\n",
    "    # Expect columns: image_name, bbox_x, bbox_y, bbox_width, bbox_height\n",
    "    required_cols = {\"image_name\", \"bbox_x\", \"bbox_y\", \"bbox_width\", \"bbox_height\"}\n",
    "    if not required_cols.issubset(df.columns):\n",
    "        raise ValueError(f\"Annotation file missing required columns: {required_cols}\")\n",
    "    return df\n",
    "\n",
    "def get_bounding_boxes(image_name: str, df: pd.DataFrame) -> List[Tuple[int, int, int, int]]:\n",
    "    \"\"\"Return all bounding boxes (x,y,w,h) for a given image name from the annotations DataFrame.\"\"\"\n",
    "    rows = df[df['image_name'] == image_name]\n",
    "    boxes = [(int(r['bbox_x']), int(r['bbox_y']), int(r['bbox_width']), int(r['bbox_height'])) \n",
    "            for _, r in rows.iterrows()]\n",
    "    return boxes\n",
    "\n",
    "def cut_out_object(image: np.ndarray, box: Tuple[int, int, int, int]) -> np.ndarray:\n",
    "    \"\"\"Crop the region defined by the bounding box from the image.\"\"\"\n",
    "    x, y, w, h = box\n",
    "    obj = image[y:y+h, x:x+w].copy()\n",
    "    # Optionally, to better isolate the sheep, one could set non-sheep pixels to black using a mask.\n",
    "    # (This would require knowing which pixels are sheep vs background; not done here due to no segmentation mask.)\n",
    "    return obj\n",
    "\n",
    "def rotate_image(image: np.ndarray, angle: float) -> np.ndarray:\n",
    "    \"\"\"Rotate an image (with background) by a given angle (in degrees) around its center, keeping same size.\"\"\"\n",
    "    (h, w) = image.shape[:2]\n",
    "    center = (w // 2, h // 2)\n",
    "    M = cv2.getRotationMatrix2D(center, angle, scale=1.0)\n",
    "    # To prevent clipping, we use the same image size output. (Sheep may have corners cut if rotated a lot.)\n",
    "    rotated = cv2.warpAffine(image, M, (w, h), flags=cv2.INTER_LINEAR, borderValue=(0,0,0))\n",
    "    return rotated\n",
    "\n",
    "def rotate_bounding_box(box: Tuple[int,int,int,int], angle: float, img_shape: Tuple[int,int]) -> Tuple[int,int,int,int]:\n",
    "    \"\"\"Rotate a bounding box around image center by a given angle. Returns enclosing axis-aligned bbox of rotated area.\"\"\"\n",
    "    # (Note: This is not used further in placement but could be used to adjust annotations if needed.)\n",
    "    x, y, w, h = box\n",
    "    img_h, img_w = img_shape\n",
    "    # Coordinates of box corners relative to image\n",
    "    corners = np.array([\n",
    "        [x, y], [x+w, y], [x, y+h], [x+w, y+h]\n",
    "    ], dtype=np.float32)\n",
    "    # Translate corners to image center, rotate, then translate back\n",
    "    center = (img_w/2, img_h/2)\n",
    "    M = cv2.getRotationMatrix2D(center, angle, 1.0)\n",
    "    ones = np.ones(shape=(len(corners), 1))\n",
    "    corners_homog = np.hstack([corners, ones])\n",
    "    rotated_corners = (M @ corners_homog.T).T  # apply rotation\n",
    "    # Get enclosing bbox\n",
    "    x_min, y_min = rotated_corners[:,0].min(), rotated_corners[:,1].min()\n",
    "    x_max, y_max = rotated_corners[:,0].max(), rotated_corners[:,1].max()\n",
    "    return (int(x_min), int(y_min), int(x_max - x_min), int(y_max - y_min))\n",
    "\n",
    "def place_object(background: np.ndarray, obj: np.ndarray, x: int, y: int) -> None:\n",
    "    \"\"\"Paste the object image onto the background at position (x, y). \n",
    "    Non-zero (non-black) pixels of the object will overwrite background.\"\"\"\n",
    "    h, w = obj.shape[:2]\n",
    "    # If the object would go out of bounds, skip placement\n",
    "    if y < 0 or x < 0 or y + h > background.shape[0] or x + w > background.shape[1]:\n",
    "        return\n",
    "    # Create a mask of where the object has non-black pixels (assuming black = background in obj)\n",
    "    mask = None\n",
    "    if obj.ndim == 3 and obj.shape[2] == 4:\n",
    "        # If object has an alpha channel, use it as mask\n",
    "        mask = obj[:, :, 3] > 0\n",
    "    else:\n",
    "        # Otherwise, treat any pixel that is not pure black as part of the object\n",
    "        mask = (obj[..., :3] > 0).any(axis=2)\n",
    "    # Overlay the object on the background using the mask\n",
    "    for c in range(3):  # for each color channel\n",
    "        background[y:y+h, x:x+w, c][mask] = obj[..., c][mask]"
   ]
  },
  {
   "cell_type": "code",
   "execution_count": 77,
   "id": "dd0851cb",
   "metadata": {},
   "outputs": [
    {
     "name": "stdout",
     "output_type": "stream",
     "text": [
      "Found 5 sheep in source image DJI_20240125160538_0008_T.JPG.\n"
     ]
    }
   ],
   "source": [
    "annotations_df = load_annotations(ANNOTATIONS_FILE)\n",
    "\n",
    "sheep_image_name = \"DJI_20240125160538_0008_T.JPG\" \n",
    "background_image_name = \"DJI_20240125160808_0083_T.JPG\" \n",
    "sheep_image = load_image(os.path.join(ENHANCED_IMAGE_FOLDER, sheep_image_name))\n",
    "background_image = load_image(os.path.join(ENHANCED_IMAGE_FOLDER, background_image_name))\n",
    "\n",
    "sheep_boxes = get_bounding_boxes(sheep_image_name, annotations_df)\n",
    "print(f\"Found {len(sheep_boxes)} sheep in source image {sheep_image_name}.\")"
   ]
  },
  {
   "cell_type": "code",
   "execution_count": 78,
   "id": "a546fd4e",
   "metadata": {},
   "outputs": [],
   "source": [
    "def generate_augmented_image(sheep_img: np.ndarray, bg_img: np.ndarray, boxes: List[Tuple[int,int,int,int]], count: int) -> Tuple[np.ndarray, List[Tuple[int,int,int,int]]]:\n",
    "    \"\"\"Compose a new image by pasting `count` randomly selected sheep from sheep_img onto a copy of bg_img.\n",
    "    Returns the new image and a list of bounding boxes for placed sheep (in the new image coordinates).\"\"\"\n",
    "    result = bg_img.copy()\n",
    "    new_annots: List[Tuple[int,int,int,int]] = []\n",
    "    placed = 0\n",
    "    attempts = 0\n",
    "    # Continue until we place the desired count of sheep or we give up after too many attempts\n",
    "    while placed < count and attempts < count * 2:\n",
    "        attempts += 1\n",
    "        box = random.choice(boxes)                # pick a random sheep from source\n",
    "        angle = random.uniform(0, 360)            # random rotation angle\n",
    "        sheep_cutout = cut_out_object(sheep_img, box)\n",
    "        rotated_cutout = rotate_image(sheep_cutout, angle)\n",
    "        h, w = rotated_cutout.shape[:2]\n",
    "        # Random position on background such that the sheep fits entirely\n",
    "        max_x = bg_img.shape[1] - w\n",
    "        max_y = bg_img.shape[0] - h\n",
    "        if max_x < 0 or max_y < 0:\n",
    "            # Skip this sheep if it's larger than background\n",
    "            continue\n",
    "        x = random.randint(0, max_x)\n",
    "        y = random.randint(0, max_y)\n",
    "        # Place the sheep; if out of bounds, it'll skip (place_object checks bounds)\n",
    "        before = len(new_annots)\n",
    "        place_object(result, rotated_cutout, x, y)\n",
    "        # If placed (we assume place_object would do nothing if out of bounds), we add annotation\n",
    "        if len(new_annots) == before:\n",
    "            # We always add annotation assuming place_object succeeded (it will succeed given our bounds check)\n",
    "            new_annots.append((x, y, w, h))\n",
    "            placed += 1\n",
    "    return result, new_annots\n",
    "\n",
    "def generate_batch(sheep_img: np.ndarray, bg_img: np.ndarray, boxes: List[Tuple[int,int,int,int]], total_images: int, min_sheep: int = 1, max_sheep: int = 5) -> List[Tuple[np.ndarray, List[Tuple[int,int,int,int]]]]:\n",
    "    \"\"\"Generate a batch of `total_images` composite images. Each new image will have a random number of sheep between min_sheep and max_sheep.\"\"\"\n",
    "    batch = []\n",
    "    for _ in range(total_images):\n",
    "        count = random.randint(min_sheep, max_sheep)\n",
    "        composite, annots = generate_augmented_image(sheep_img, bg_img, boxes, count)\n",
    "        batch.append((composite, annots))\n",
    "    return batch\n",
    "\n",
    "def display_images_side_by_side(images_with_annots: List[Tuple[np.ndarray, List[Tuple[int,int,int,int]]]], cols: int = 5):\n",
    "    \"\"\"Display a list of images (with their annotations) as thumbnails side by side for quick preview.\"\"\"\n",
    "    total = len(images_with_annots)\n",
    "    rows = (total + cols - 1) // cols\n",
    "    fig, axes = plt.subplots(rows, cols, figsize=(cols * 3, rows * 3))\n",
    "    axes = axes.flatten() if isinstance(axes, np.ndarray) else [axes]\n",
    "    for ax in axes:\n",
    "        ax.axis('off')\n",
    "    for ax, (img, annots) in zip(axes, images_with_annots):\n",
    "        # Draw bounding boxes on a copy for visualization\n",
    "        vis_img = img.copy()\n",
    "        for (x, y, w, h) in annots:\n",
    "            cv2.rectangle(vis_img, (x, y), (x+w, y+h), color=(255, 0, 0), thickness=2)  # blue rectangles for new sheep\n",
    "        ax.imshow(cv2.cvtColor(vis_img, cv2.COLOR_BGR2RGB))\n",
    "    plt.tight_layout()\n",
    "    plt.show()"
   ]
  },
  {
   "cell_type": "code",
   "execution_count": 79,
   "id": "198a2225",
   "metadata": {},
   "outputs": [
    {
     "data": {
      "image/png": "[encoded data removed]",
      "text/plain": [
       "<Figure size 1500x600 with 10 Axes>"
      ]
     },
     "metadata": {},
     "output_type": "display_data"
    }
   ],
   "source": [
    "generated = generate_batch(sheep_image, background_image, sheep_boxes, total_images=200, min_sheep=1, max_sheep=5)\n",
    "display_images_side_by_side(generated[:10], cols=5)"
   ]
  },
  {
   "cell_type": "code",
   "execution_count": 80,
   "id": "fe337000",
   "metadata": {},
   "outputs": [
    {
     "name": "stdout",
     "output_type": "stream",
     "text": [
      "✅ Saved 200 augmented images and updated annotations at '../dataset/images/augmented\\annotations.xlsx'\n"
     ]
    }
   ],
   "source": [
    "os.makedirs(AUGMENTED_IMAGE_FOLDER, exist_ok=True)\n",
    "annotations_file = os.path.join(AUGMENTED_IMAGE_FOLDER, \"annotations.xlsx\")\n",
    "\n",
    "existing_images = [f for f in os.listdir(AUGMENTED_IMAGE_FOLDER) if f.endswith(\".jpg\")]\n",
    "start_idx = len(existing_images)  # how many already present\n",
    "records = []\n",
    "for i, (img, boxes) in enumerate(generated, start=start_idx + 1):\n",
    "    image_name = f\"generated_image_{i}.jpg\"\n",
    "    cv2.imwrite(os.path.join(AUGMENTED_IMAGE_FOLDER, image_name), img)\n",
    "    # record each bounding box in the new image\n",
    "    for (x, y, w, h) in boxes:\n",
    "        records.append({\n",
    "            'image_name': image_name,\n",
    "            'bbox_x': x,\n",
    "            'bbox_y': y,\n",
    "            'bbox_width': w,\n",
    "            'bbox_height': h\n",
    "        })\n",
    "# Append to existing annotations if file exists, otherwise create new\n",
    "df_new = pd.DataFrame(records)\n",
    "if os.path.exists(annotations_file):\n",
    "    df_old = pd.read_excel(annotations_file)\n",
    "    df_new = pd.concat([df_old, df_new], ignore_index=True)\n",
    "df_new.to_excel(annotations_file, index=False)\n",
    "print(f\"✅ Saved {len(generated)} augmented images and updated annotations at '{annotations_file}'\")"
   ]
  }
 ],
 "metadata": {
  "kernelspec": {
   "display_name": "venv",
   "language": "python",
   "name": "python3"
  },
  "language_info": {
   "codemirror_mode": {
    "name": "ipython",
    "version": 3
   },
   "file_extension": ".py",
   "mimetype": "text/x-python",
   "name": "python",
   "nbconvert_exporter": "python",
   "pygments_lexer": "ipython3",
   "version": "3.10.11"
  }
 },
 "nbformat": 4,
 "nbformat_minor": 5
}
